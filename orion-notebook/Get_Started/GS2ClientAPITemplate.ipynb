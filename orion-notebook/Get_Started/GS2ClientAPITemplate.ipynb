{
 "cells": [
  {
   "cell_type": "markdown",
   "metadata": {},
   "source": [
    "# Initialize GS2 Client\n",
    "### Please replace Your_GS2_URL, Your_GS2_Access_Key and Your_GS2_Secret with yours from GS2 service"
   ]
  },
  {
   "cell_type": "code",
   "execution_count": null,
   "metadata": {},
   "outputs": [],
   "source": [
    "gs2_url        = 'Your_GS2_URL'\n",
    "gs2_access_key = 'Your_GS2_Access_Key'\n",
    "gs2_secret_key = 'Your_GS2_Secret'\n",
    "\n",
    "\n",
    "from minio import Minio\n",
    "from minio.error import ResponseError\n",
    "\n",
    "isSecure = False\n",
    "httpsScheme = 'https://'\n",
    "httpScheme = 'http://'\n",
    "if httpsScheme in gs2_url:\n",
    "    gs2_url = gs2_url.replace(httpsScheme,'')\n",
    "    isSecure = True\n",
    "else:\n",
    "    gs2_url = gs2_url.replace(httpScheme,'')\n",
    "\n",
    "GS2Client = Minio(gs2_url,access_key=gs2_access_key,secret_key=gs2_secret_key,secure=isSecure)"
   ]
  },
  {
   "cell_type": "markdown",
   "metadata": {},
   "source": [
    "# List All Buckets"
   ]
  },
  {
   "cell_type": "code",
   "execution_count": null,
   "metadata": {},
   "outputs": [],
   "source": [
    "buckets = GS2Client.list_buckets()\n",
    "for bucket in buckets:\n",
    "    print(bucket.name, bucket.creation_date)"
   ]
  },
  {
   "cell_type": "markdown",
   "metadata": {},
   "source": [
    "# List All Objects in a Bucket"
   ]
  },
  {
   "cell_type": "code",
   "execution_count": null,
   "metadata": {},
   "outputs": [],
   "source": [
    "gs2_bucket_name = 'Your_GS2_Bucket_Name'\n",
    "\n",
    "\n",
    "objects = GS2Client.list_objects(gs2_bucket_name,\n",
    "                                 prefix=None,\n",
    "                                 recursive=False)\n",
    "for obj in objects:\n",
    "    print(obj.bucket_name, obj.object_name.encode('utf-8'), obj.last_modified,\n",
    "          obj.etag, obj.size, obj.content_type)"
   ]
  },
  {
   "cell_type": "markdown",
   "metadata": {},
   "source": [
    "# Download an Object from GS2 to Not\n",
    "### notebook_file_path = './example_notebook_path/example_notebook_filename.csv'"
   ]
  },
  {
   "cell_type": "code",
   "execution_count": null,
   "metadata": {},
   "outputs": [],
   "source": [
    "gs2_bucket_name    = 'Your_GS2_Bucket_Name'\n",
    "gs2_object_name    = 'Your_GS2_Objext_Name'\n",
    "notebook_file_path = 'Your_Notebook_File_Path'\n",
    "\n",
    "\n",
    "try:\n",
    "    GS2Client.fget_object(gs2_bucket_name,\n",
    "                          gs2_object_name,\n",
    "                          notebook_file_path)\n",
    "except ResponseError as err:\n",
    "    print(err)"
   ]
  },
  {
   "cell_type": "markdown",
   "metadata": {},
   "source": [
    "# Upload an Object to GS2.\n",
    "### notebook_file_path = './example_notebook_path/example_notebook_filename.csv'"
   ]
  },
  {
   "cell_type": "code",
   "execution_count": null,
   "metadata": {},
   "outputs": [],
   "source": [
    "gs2_bucket_name    = 'Your_GS2_Bucket_Name'\n",
    "gs2_object_name    = 'Your_GS2_Objext_Name'\n",
    "notebook_file_path = 'Your_Notebook_File_Path'\n",
    "\n",
    "\n",
    "try:\n",
    "    GS2Client.fput_object(gs2_bucket_name,\n",
    "                          gs2_object_name,\n",
    "                          notebook_file_path)\n",
    "except ResponseError as err:\n",
    "    print(err)"
   ]
  }
 ],
 "metadata": {
  "kernelspec": {
   "display_name": "Python 3",
   "language": "python",
   "name": "python3"
  },
  "language_info": {
   "codemirror_mode": {
    "name": "ipython",
    "version": 3
   },
   "file_extension": ".py",
   "mimetype": "text/x-python",
   "name": "python",
   "nbconvert_exporter": "python",
   "pygments_lexer": "ipython3",
   "version": "3.7.3"
  },
  "pycharm": {
   "stem_cell": {
    "cell_type": "raw",
    "metadata": {
     "collapsed": false
    },
    "source": []
   }
  }
 },
 "nbformat": 4,
 "nbformat_minor": 2
}
