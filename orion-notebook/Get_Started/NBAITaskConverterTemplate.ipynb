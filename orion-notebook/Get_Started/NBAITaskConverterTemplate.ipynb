{
 "cells": [
  {
   "cell_type": "markdown",
   "metadata": {},
   "source": [
    "## NBAI Task Converter\n",
    "\n",
    "This package will warp and convert your Notebook file into a NBAI task.\n",
    " \n",
    "(Tips: For FILE or DIRECTORY path settings, select this FILE or DIRECTORY in the left File Browser Window, right click and select 'Copy Path', and then paste it.)\n",
    "\n",
    "### Please assign the following variables and <span style=\"color:blue\">'Run All Cells'</span> \n"
   ]
  },
  {
   "cell_type": "markdown",
   "metadata": {
    "pycharm": {
     "name": "#%% md\n"
    }
   },
   "source": [
    "#### 1. 'project_root' DIRECTORY path (<span style=\"color:red\">REQUIRED</span>)\n",
    "All the files and sub-folders under this 'project_root' will be assumed as a part of your project and be compressed into a <span style=\"color:blue\">'yourFileName_cloud.zip'</span>, excluding:\n",
    "\n",
    "    hidden folders(e.g. '.git', '.idea' folder)\n",
    "    python '__pycache__' folder\n",
    "    files starting with '.'\n",
    "    Notebook '.ipynb' files\n",
    "    \n",
    "This <span style=\"color:blue\">'yourFileName_cloud.zip'</span> file could be directly uploaded as a NBAI task on NBAI Cloud Platform."
   ]
  },
  {
   "cell_type": "code",
   "execution_count": null,
   "metadata": {},
   "outputs": [],
   "source": [
    "\n",
    "project_root = \"PROJECT_ROOT_PATH\"\n"
   ]
  },
  {
   "cell_type": "markdown",
   "metadata": {},
   "source": [
    "#### 2. 'main_file' FILE path under 'project_root' (<span style=\"color:red\">REQUIRED</span>)\n",
    "This file is executed directly as the top-level file or the main file of your project.\n",
    "\n",
    "This file must be a Notebook '.ipynb' file or Python(3.5+) '.py' file.\n",
    "\n",
    "Each '.ipynb' file in 'project_root' and its sub-folders will be converted automatically to a Python3 '.py' file with the same file name.  "
   ]
  },
  {
   "cell_type": "code",
   "execution_count": null,
   "metadata": {},
   "outputs": [],
   "source": [
    "\n",
    "main_file = \"PROJECT_ROOT_PATH/MAINFILENAME.ipynb\"\n"
   ]
  },
  {
   "cell_type": "markdown",
   "metadata": {},
   "source": [
    "#### 3. 'output_directory' DIRECTORY path under 'project_root'\n",
    "This output directory contains your result files. \n",
    "In your codes, for example, you save all your training result files in the folder 'Results' under your 'project_root'. \n",
    "Therefore, output_directory = \"PROJECT_ROOT_PATH/Results\".\n",
    "\n",
    "This path should under the path of 'project_root'.\n",
    "\n",
    "If this 'output_directory' is empty, no result files will be output."
   ]
  },
  {
   "cell_type": "code",
   "execution_count": null,
   "metadata": {},
   "outputs": [],
   "source": [
    "\n",
    "output_directory = \"\"\n"
   ]
  },
  {
   "cell_type": "markdown",
   "metadata": {},
   "source": [
    "### Python Command-Line Arguments (Skip the following settings if you do not have Python Command-Line Arguments)\n",
    "Consider:\n",
    "\n",
    "    - You have a REMOTE dataset lolcated at 'data_url';\n",
    "    - You need to pass this 'data_url' as Python Command-Line Argument when you run your program;\n",
    "    - In your codes, you have defined how to parse these Python Command-Line Arguments;\n",
    "        (https://docs.python.org/3.7/library/argparse.html)\n",
    "\n",
    "Curently, we provide 'data_url'and 'data_dir' Python Command-Line Arguments\n",
    "        * 'data_url' defines where to download the REMOTE dataset;\n",
    "        * 'data_dir' defines where to save the downloded REMOTE dataset.\n",
    "\n",
    "For example, if you run 'yourFileName.py' in the following format,\n",
    "```\n",
    "    python yourFileName.py --data_url 'http://mattmahoney.net/dc/text8.zip' --data_dir 'PROJECT_ROOT_PATH/dataset'\n",
    "```\n",
    "You can set \n",
    "```\n",
    "    data_url = \"http://mattmahoney.net/dc/text8.zip\"\n",
    "    data_dir = \"PROJECT_ROOT_PATH/dataset\"\n",
    "```\n",
    "\n",
    "#### 4. 'data_url' \n",
    "#### 5. 'data_dir' DIRECTORY path under 'project_root'\n"
   ]
  },
  {
   "cell_type": "code",
   "execution_count": null,
   "metadata": {},
   "outputs": [],
   "source": [
    "\n",
    "data_url = \"\"\n",
    "\n",
    "data_dir = \"\"\n"
   ]
  },
  {
   "cell_type": "code",
   "execution_count": null,
   "metadata": {},
   "outputs": [],
   "source": [
    "import os\n",
    "%reload_ext autoreload\n",
    "%autoreload 1\n",
    "%aimport convert\n",
    "try:\n",
    "    convert.main(project_root, main_file, output_directory, data_url, data_dir)\n",
    "except Exception:\n",
    "    os._exit(00)"
   ]
  }
 ],
 "metadata": {
  "kernelspec": {
   "display_name": "Python 3",
   "language": "python",
   "name": "python3"
  },
  "language_info": {
   "codemirror_mode": {
    "name": "ipython",
    "version": 3
   },
   "file_extension": ".py",
   "mimetype": "text/x-python",
   "name": "python",
   "nbconvert_exporter": "python",
   "pygments_lexer": "ipython3",
   "version": "3.7.3"
  },
  "pycharm": {
   "stem_cell": {
    "cell_type": "raw",
    "metadata": {
     "collapsed": false
    },
    "source": []
   }
  }
 },
 "nbformat": 4,
 "nbformat_minor": 2
}
