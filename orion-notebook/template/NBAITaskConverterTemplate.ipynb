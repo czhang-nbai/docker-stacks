{
 "cells": [
  {
   "cell_type": "markdown",
   "metadata": {},
   "source": [
    "# Please assign the following five variables and 'Run All Cells'"
   ]
  },
  {
   "cell_type": "code",
   "execution_count": null,
   "metadata": {},
   "outputs": [],
   "source": [
    "# required. Your project root path.\n",
    "project_root = \"\"\n",
    "\n",
    "# required. The entry-point file path under 'project_root'.\n",
    "convert_file_path = \"\"\n",
    "\n",
    "# Your output directory path.\n",
    "# Warning: if 'output_directory' is empty, no result files will be output.\n",
    "output_directory = \"\"\n",
    "\n",
    "# The data url if your have EXTERNAL data. Otherwise, leave it empty.\n",
    "data_url = \"\"\n",
    "\n",
    "# The directory path to save your EXTERNAL data. If 'data_url' is empty, leave this variable empty.\n",
    "data_dir = \"\""
   ]
  },
  {
   "cell_type": "code",
   "execution_count": null,
   "metadata": {},
   "outputs": [],
   "source": [
    "%load_ext autoreload\n",
    "%autoreload 1\n",
    "%aimport convert\n",
    "convert.main(project_root, convert_file_path, output_directory, data_url, data_dir)"
   ]
  }
 ],
 "metadata": {
  "kernelspec": {
   "display_name": "Python 3",
   "language": "python",
   "name": "python3"
  },
  "language_info": {
   "codemirror_mode": {
    "name": "ipython",
    "version": 3
   },
   "file_extension": ".py",
   "mimetype": "text/x-python",
   "name": "python",
   "nbconvert_exporter": "python",
   "pygments_lexer": "ipython3",
   "version": "3.7.3"
  },
  "pycharm": {
   "stem_cell": {
    "cell_type": "raw",
    "source": [],
    "metadata": {
     "collapsed": false
    }
   }
  }
 },
 "nbformat": 4,
 "nbformat_minor": 2
}